{
 "cells": [
  {
   "cell_type": "markdown",
   "metadata": {},
   "source": [
    "## Data Processing"
   ]
  },
  {
   "cell_type": "code",
   "execution_count": null,
   "metadata": {},
   "outputs": [],
   "source": [
    "from rag_kg.pipeline.process_data import filter_data, create_entity_relation_data"
   ]
  },
  {
   "cell_type": "code",
   "execution_count": null,
   "metadata": {},
   "outputs": [],
   "source": [
    "filtered_data = filter_data([\"paris\"])\n",
    "relations = create_entity_relation_data(filtered_data)"
   ]
  },
  {
   "cell_type": "markdown",
   "metadata": {},
   "source": [
    "## Construct Knowledge Graph"
   ]
  },
  {
   "cell_type": "code",
   "execution_count": 3,
   "metadata": {},
   "outputs": [],
   "source": [
    "from rag_kg.knowledge_graph.script import clear_database, populate_database, get_all_entities_relations"
   ]
  },
  {
   "cell_type": "code",
   "execution_count": 4,
   "metadata": {},
   "outputs": [],
   "source": [
    "clear_database()\n",
    "populate_database()"
   ]
  },
  {
   "cell_type": "code",
   "execution_count": 5,
   "metadata": {},
   "outputs": [],
   "source": [
    "result = get_all_entities_relations()"
   ]
  },
  {
   "cell_type": "markdown",
   "metadata": {},
   "source": [
    "## Query Data"
   ]
  },
  {
   "cell_type": "code",
   "execution_count": 6,
   "metadata": {},
   "outputs": [],
   "source": [
    "from rag_kg.pipeline.infer import get_result"
   ]
  },
  {
   "cell_type": "code",
   "execution_count": 7,
   "metadata": {},
   "outputs": [
    {
     "name": "stderr",
     "output_type": "stream",
     "text": [
      "INFO: rag_kg.pipeline.infer: Processing Query: What are some sport events that held and some books written in cities of France?\n",
      "INFO: rag_kg.pipeline.infer: Independent Queries: [[{'index': 0, 'query': 'What are the cities in France?', 'dependencies': [], 'entity2': {'name': 'France', 'type': 'country'}, 'entity1_type': 'city', 'relation': 'located_in'}], [{'index': 1, 'query': 'What are some sport events held in <city>?', 'dependencies': [0], 'entity2': {'name': '<city>', 'type': 'city'}, 'entity1_type': 'event', 'relation': 'held_in'}, {'index': 2, 'query': 'What are some books written in <city>?', 'dependencies': [0], 'entity2': {'name': '<city>', 'type': 'city'}, 'entity1_type': 'book', 'relation': 'written_in'}]]\n"
     ]
    },
    {
     "name": "stdout",
     "output_type": "stream",
     "text": [
      "Here are some sport events held in cities of France: 1931 European Rowing Championships, 1957 World Fencing Championships, 1968 European Karate Championships, 1970 Paris Open Indoor Championships, 1971 European Karate Championships, 1981 Paris Open, 1982 Paris Open, 1982 World Sambo Championships, 1986 Paris Open, 1988 Paris Open, 1992 Open Clarins, 1992 Paris Open, 1995 Paris Open, 1996 Paris Open, 1997 Paris Open, 1999 French Open, 1999 Paris Masters, 2000 Paris Masters, 2005 French Open in badminton, 2008 Paris Masters, 2016 Judo Grand Slam, Art Blakey concert, and German occupation.\n",
      "\n",
      "There are no books written in cities of France in the retrieved knowledge graph.\n"
     ]
    }
   ],
   "source": [
    "query = \"What are some sport events that held and some books written in cities of France?\"\n",
    "print(get_result(query))"
   ]
  },
  {
   "cell_type": "code",
   "execution_count": null,
   "metadata": {},
   "outputs": [],
   "source": []
  }
 ],
 "metadata": {
  "kernelspec": {
   "display_name": "Python 3",
   "language": "python",
   "name": "python3"
  },
  "language_info": {
   "codemirror_mode": {
    "name": "ipython",
    "version": 3
   },
   "file_extension": ".py",
   "mimetype": "text/x-python",
   "name": "python",
   "nbconvert_exporter": "python",
   "pygments_lexer": "ipython3",
   "version": "3.10.11"
  }
 },
 "nbformat": 4,
 "nbformat_minor": 2
}
