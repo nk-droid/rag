{
 "cells": [
  {
   "cell_type": "markdown",
   "metadata": {},
   "source": [
    "## Data Processing"
   ]
  },
  {
   "cell_type": "markdown",
   "metadata": {},
   "source": [
    "### Load Data"
   ]
  },
  {
   "cell_type": "code",
   "execution_count": 1,
   "metadata": {},
   "outputs": [],
   "source": [
    "import os\n",
    "import re\n",
    "import json"
   ]
  },
  {
   "cell_type": "code",
   "execution_count": 2,
   "metadata": {},
   "outputs": [],
   "source": [
    "DATA_DIR = \"./GraphRAG/data\"\n",
    "\n",
    "with open(os.path.join(DATA_DIR, \"raw\", \"wikisent2.txt\"), 'r', encoding='utf-8') as file:\n",
    "    filtered_lines = [line.strip() for line in file if re.search(r'\\bparis\\b', line, re.IGNORECASE)]\n",
    "    \n"
   ]
  },
  {
   "cell_type": "code",
   "execution_count": 3,
   "metadata": {},
   "outputs": [
    {
     "data": {
      "text/plain": [
       "9476"
      ]
     },
     "execution_count": 3,
     "metadata": {},
     "output_type": "execute_result"
    }
   ],
   "source": [
    "len(filtered_lines)"
   ]
  },
  {
   "cell_type": "markdown",
   "metadata": {},
   "source": [
    "### Process Data"
   ]
  },
  {
   "cell_type": "code",
   "execution_count": null,
   "metadata": {},
   "outputs": [
    {
     "name": "stderr",
     "output_type": "stream",
     "text": [
      "C:\\Users\\HP\\AppData\\Local\\Packages\\PythonSoftwareFoundation.Python.3.10_qbz5n2kfra8p0\\LocalCache\\local-packages\\Python310\\site-packages\\langchain_openai\\chat_models\\__init__.py:1: LangChainDeprecationWarning: As of langchain-core 0.3.0, LangChain uses pydantic v2 internally. The langchain_core.pydantic_v1 module was a compatibility shim for pydantic v1, and should no longer be used. Please update the code to import from Pydantic directly.\n",
      "\n",
      "For example, replace imports like: `from langchain_core.pydantic_v1 import BaseModel`\n",
      "with: `from pydantic import BaseModel`\n",
      "or the v1 compatibility namespace if you are working in a code base that has not been fully upgraded to pydantic 2 yet. \tfrom pydantic.v1 import BaseModel\n",
      "\n",
      "  from langchain_openai.chat_models.azure import AzureChatOpenAI\n",
      "C:\\Users\\HP\\AppData\\Local\\Packages\\PythonSoftwareFoundation.Python.3.10_qbz5n2kfra8p0\\LocalCache\\local-packages\\Python310\\site-packages\\pydantic\\_internal\\_config.py:345: UserWarning: Valid config keys have changed in V2:\n",
      "* 'allow_population_by_field_name' has been renamed to 'populate_by_name'\n",
      "  warnings.warn(message, UserWarning)\n",
      "C:\\Users\\HP\\AppData\\Local\\Packages\\PythonSoftwareFoundation.Python.3.10_qbz5n2kfra8p0\\LocalCache\\local-packages\\Python310\\site-packages\\pydantic\\_internal\\_config.py:345: UserWarning: Valid config keys have changed in V2:\n",
      "* 'allow_population_by_field_name' has been renamed to 'populate_by_name'\n",
      "  warnings.warn(message, UserWarning)\n",
      "C:\\Users\\HP\\AppData\\Local\\Packages\\PythonSoftwareFoundation.Python.3.10_qbz5n2kfra8p0\\LocalCache\\local-packages\\Python310\\site-packages\\tqdm\\auto.py:21: TqdmWarning: IProgress not found. Please update jupyter and ipywidgets. See https://ipywidgets.readthedocs.io/en/stable/user_install.html\n",
      "  from .autonotebook import tqdm as notebook_tqdm\n"
     ]
    }
   ],
   "source": [
    "from rag_kg.utils.schema import *\n",
    "from rag_kg.utils.client import get_chat_chain\n",
    "from langchain.prompts import PromptTemplate\n",
    "from langchain.output_parsers import PydanticOutputParser\n",
    "\n",
    "template = \"\"\"\n",
    "You are an NER model with capability to identify relationships between entities in a sentence. Given the following sentence,\n",
    "identify all the entity pairs and the relationship between them.\n",
    "\n",
    "Here is the sentence separated in backticks (```):\n",
    "```\n",
    "{sentence}\n",
    "```\n",
    "\n",
    "Please provide the output in the following format:\n",
    "{format_instructions}\n",
    "\"\"\""
   ]
  },
  {
   "cell_type": "code",
   "execution_count": 5,
   "metadata": {},
   "outputs": [],
   "source": [
    "import time"
   ]
  },
  {
   "cell_type": "code",
   "execution_count": 6,
   "metadata": {},
   "outputs": [
    {
     "name": "stdout",
     "output_type": "stream",
     "text": [
      "0 {'relationships': [{'entity1': {'name': 'Johann Stamitz', 'type': 'person'}, 'entity2': {'name': 'No. 3', 'type': 'book'}, 'relationship': 'written_by'}, {'entity1': {'name': 'Paris', 'type': 'city'}, 'entity2': {'name': 'France', 'type': 'country'}, 'relationship': 'located_in'}, {'entity1': {'name': 'No. 3', 'type': 'book'}, 'entity2': {'name': 'Paris', 'type': 'city'}, 'relationship': 'located_in'}, {'entity1': {'name': 'No. 3', 'type': 'book'}, 'entity2': {'name': '1754', 'type': 'date'}, 'relationship': 'dated_on'}, {'entity1': {'name': 'No. 3', 'type': 'book'}, 'entity2': {'name': '1755', 'type': 'date'}, 'relationship': 'dated_on'}]}\n",
      "1 {'relationships': [{'entity1': {'name': 'Brussels', 'type': 'city'}, 'entity2': {'name': '146 countries', 'type': 'country'}, 'relationship': 'associated_with'}, {'entity1': {'name': 'Paris', 'type': 'city'}, 'entity2': {'name': '146 countries', 'type': 'country'}, 'relationship': 'associated_with'}]}\n",
      "2 {'relationships': [{'entity1': {'name': '1871', 'type': 'date'}, 'entity2': {'name': '1990', 'type': 'date'}, 'relationship': 'dated_on'}, {'entity1': {'name': 'Paris Commune', 'type': 'event'}, 'entity2': {'name': '1871', 'type': 'date'}, 'relationship': 'happened_on'}]}\n",
      "3 {'relationships': [{'entity1': {'name': '1931 European Rowing Championships', 'type': 'event'}, 'entity2': {'name': 'Seine', 'type': 'city'}, 'relationship': 'held_in'}, {'entity1': {'name': '1931 European Rowing Championships', 'type': 'event'}, 'entity2': {'name': 'Paris', 'type': 'city'}, 'relationship': 'held_in'}, {'entity1': {'name': 'Paris', 'type': 'city'}, 'entity2': {'name': 'France', 'type': 'country'}, 'relationship': 'located_in'}, {'entity1': {'name': '1931 European Rowing Championships', 'type': 'event'}, 'entity2': {'name': 'Suresnes', 'type': 'city'}, 'relationship': 'held_in'}]}\n",
      "4 {'relationships': [{'entity1': {'name': '1933 French Championships', 'type': 'event'}, 'entity2': {'name': 'French Open', 'type': 'event'}, 'relationship': 'known_as'}, {'entity1': {'name': '1933 French Championships', 'type': 'event'}, 'entity2': {'name': 'Stade Roland-Garros', 'type': 'organization'}, 'relationship': 'held_in'}, {'entity1': {'name': 'Stade Roland-Garros', 'type': 'organization'}, 'entity2': {'name': 'Paris', 'type': 'city'}, 'relationship': 'located_in'}, {'entity1': {'name': 'Paris', 'type': 'city'}, 'entity2': {'name': 'France', 'type': 'country'}, 'relationship': 'located_in'}]}\n",
      "5 {'relationships': [{'entity1': {'name': '1957 French Championships', 'type': 'event'}, 'entity2': {'name': 'French Open', 'type': 'event'}, 'relationship': 'known_as'}, {'entity1': {'name': '1957 French Championships', 'type': 'event'}, 'entity2': {'name': 'Stade Roland-Garros', 'type': 'organization'}, 'relationship': 'held_in'}, {'entity1': {'name': 'Stade Roland-Garros', 'type': 'organization'}, 'entity2': {'name': 'Paris', 'type': 'city'}, 'relationship': 'located_in'}, {'entity1': {'name': 'Paris', 'type': 'city'}, 'entity2': {'name': 'France', 'type': 'country'}, 'relationship': 'located_in'}]}\n",
      "6 {'relationships': [{'entity1': {'name': '1957 World Fencing Championships', 'type': 'event'}, 'entity2': {'name': 'Paris', 'type': 'city'}, 'relationship': 'held_in'}, {'entity1': {'name': '1957 World Fencing Championships', 'type': 'event'}, 'entity2': {'name': 'France', 'type': 'country'}, 'relationship': 'held_in'}, {'entity1': {'name': 'Paris', 'type': 'city'}, 'entity2': {'name': 'France', 'type': 'country'}, 'relationship': 'located_in'}]}\n",
      "7 {'relationships': [{'entity1': {'name': '1958 French Championships', 'type': 'event'}, 'entity2': {'name': 'French Open', 'type': 'event'}, 'relationship': 'known_as'}, {'entity1': {'name': '1958 French Championships', 'type': 'event'}, 'entity2': {'name': 'Stade Roland-Garros', 'type': 'organization'}, 'relationship': 'held_in'}, {'entity1': {'name': 'Stade Roland-Garros', 'type': 'organization'}, 'entity2': {'name': 'Paris', 'type': 'city'}, 'relationship': 'located_in'}, {'entity1': {'name': 'Paris', 'type': 'city'}, 'entity2': {'name': 'France', 'type': 'country'}, 'relationship': 'located_in'}]}\n",
      "8 {'relationships': [{'entity1': {'name': 'French Championships', 'type': 'event'}, 'entity2': {'name': 'French Open', 'type': 'event'}, 'relationship': 'known_as'}, {'entity1': {'name': 'French Championships', 'type': 'event'}, 'entity2': {'name': '1959', 'type': 'date'}, 'relationship': 'dated_on'}, {'entity1': {'name': 'French Championships', 'type': 'event'}, 'entity2': {'name': 'Stade Roland-Garros', 'type': 'organization'}, 'relationship': 'held_in'}, {'entity1': {'name': 'Stade Roland-Garros', 'type': 'organization'}, 'entity2': {'name': 'Paris', 'type': 'city'}, 'relationship': 'located_in'}, {'entity1': {'name': 'Paris', 'type': 'city'}, 'entity2': {'name': 'France', 'type': 'country'}, 'relationship': 'located_in'}]}\n",
      "9 {'relationships': [{'entity1': {'name': '1961 French Championships', 'type': 'event'}, 'entity2': {'name': 'French Open', 'type': 'event'}, 'relationship': 'known_as'}, {'entity1': {'name': '1961 French Championships', 'type': 'event'}, 'entity2': {'name': 'Stade Roland-Garros', 'type': 'organization'}, 'relationship': 'held_in'}, {'entity1': {'name': 'Stade Roland-Garros', 'type': 'organization'}, 'entity2': {'name': 'Paris', 'type': 'city'}, 'relationship': 'located_in'}, {'entity1': {'name': 'Paris', 'type': 'city'}, 'entity2': {'name': 'France', 'type': 'country'}, 'relationship': 'located_in'}]}\n",
      "10 {'relationships': [{'entity1': {'name': '1964 French Championships', 'type': 'event'}, 'entity2': {'name': 'French Open', 'type': 'event'}, 'relationship': 'known_as'}, {'entity1': {'name': '1964 French Championships', 'type': 'event'}, 'entity2': {'name': 'Stade Roland-Garros', 'type': 'organization'}, 'relationship': 'held_in'}, {'entity1': {'name': 'Stade Roland-Garros', 'type': 'organization'}, 'entity2': {'name': 'Paris', 'type': 'city'}, 'relationship': 'located_in'}, {'entity1': {'name': 'Paris', 'type': 'city'}, 'entity2': {'name': 'France', 'type': 'country'}, 'relationship': 'located_in'}]}\n",
      "11 {'relationships': [{'entity1': {'name': '1968 European Karate Championships', 'type': 'event'}, 'entity2': {'name': 'Coubertine Hall', 'type': 'organization'}, 'relationship': 'held_in'}, {'entity1': {'name': '1968 European Karate Championships', 'type': 'event'}, 'entity2': {'name': 'Paris', 'type': 'city'}, 'relationship': 'held_in'}, {'entity1': {'name': 'Paris', 'type': 'city'}, 'entity2': {'name': 'France', 'type': 'country'}, 'relationship': 'located_in'}, {'entity1': {'name': '1968 European Karate Championships', 'type': 'event'}, 'entity2': {'name': 'France', 'type': 'country'}, 'relationship': 'held_in'}, {'entity1': {'name': '1968 European Karate Championships', 'type': 'event'}, 'entity2': {'name': 'May 2 to 4, 1968', 'type': 'date'}, 'relationship': 'held_on'}]}\n",
      "12 {'relationships': [{'entity1': {'name': '1968 Wimbledon Championships', 'type': 'event'}, 'entity2': {'name': 'Stade Roland Garros', 'type': 'organization'}, 'relationship': 'held_in'}, {'entity1': {'name': 'Stade Roland Garros', 'type': 'organization'}, 'entity2': {'name': 'Paris', 'type': 'city'}, 'relationship': 'located_in'}, {'entity1': {'name': 'Paris', 'type': 'city'}, 'entity2': {'name': 'France', 'type': 'country'}, 'relationship': 'located_in'}]}\n",
      "13 {'relationships': [{'entity1': {'name': '1970 Paris Open Indoor Championships', 'type': 'event'}, 'entity2': {'name': 'Paris', 'type': 'city'}, 'relationship': 'held_in'}]}\n",
      "14 {'relationships': [{'entity1': {'name': '1971 European Karate Championships', 'type': 'event'}, 'entity2': {'name': 'Paris', 'type': 'city'}, 'relationship': 'held_in'}, {'entity1': {'name': '1971 European Karate Championships', 'type': 'event'}, 'entity2': {'name': 'France', 'type': 'country'}, 'relationship': 'held_in'}, {'entity1': {'name': '1971 European Karate Championships', 'type': 'event'}, 'entity2': {'name': 'May 2 to 4, 1971', 'type': 'date'}, 'relationship': 'held_on'}, {'entity1': {'name': '1971 European Karate Championships', 'type': 'event'}, 'entity2': {'name': 'Coubertine Hall', 'type': 'organization'}, 'relationship': 'held_in'}]}\n",
      "15 {'relationships': [{'entity1': {'name': '1971 French Open', 'type': 'event'}, 'entity2': {'name': 'Stade Roland Garros', 'type': 'organization'}, 'relationship': 'held_in'}, {'entity1': {'name': 'Stade Roland Garros', 'type': 'organization'}, 'entity2': {'name': 'Paris', 'type': 'city'}, 'relationship': 'located_in'}, {'entity1': {'name': 'Paris', 'type': 'city'}, 'entity2': {'name': 'France', 'type': 'country'}, 'relationship': 'located_in'}]}\n",
      "16 {'relationships': [{'entity1': {'name': '1972 Paris Open', 'type': 'event'}, 'entity2': {'name': 'Jean Becker Open Championships', 'type': 'event'}, 'relationship': 'known_as'}, {'entity1': {'name': '1972 Paris Open', 'type': 'event'}, 'entity2': {'name': 'Paris', 'type': 'city'}, 'relationship': 'held_in'}]}\n",
      "17 {'relationships': [{'entity1': {'name': '1974 French Open', 'type': 'event'}, 'entity2': {'name': 'Stade Roland Garros', 'type': 'organization'}, 'relationship': 'held_in'}, {'entity1': {'name': 'Stade Roland Garros', 'type': 'organization'}, 'entity2': {'name': 'Paris', 'type': 'city'}, 'relationship': 'located_in'}, {'entity1': {'name': 'Paris', 'type': 'city'}, 'entity2': {'name': 'France', 'type': 'country'}, 'relationship': 'located_in'}]}\n",
      "18 {'relationships': [{'entity1': {'name': '1977 French Open', 'type': 'event'}, 'entity2': {'name': 'Stade Roland Garros', 'type': 'organization'}, 'relationship': 'held_in'}, {'entity1': {'name': 'Stade Roland Garros', 'type': 'organization'}, 'entity2': {'name': 'Paris', 'type': 'city'}, 'relationship': 'located_in'}, {'entity1': {'name': 'Paris', 'type': 'city'}, 'entity2': {'name': 'France', 'type': 'country'}, 'relationship': 'located_in'}]}\n",
      "19 {'relationships': [{'entity1': {'name': '1978 French Open', 'type': 'event'}, 'entity2': {'name': 'Stade Roland Garros', 'type': 'organization'}, 'relationship': 'held_in'}, {'entity1': {'name': 'Stade Roland Garros', 'type': 'organization'}, 'entity2': {'name': 'Paris', 'type': 'city'}, 'relationship': 'located_in'}, {'entity1': {'name': 'Paris', 'type': 'city'}, 'entity2': {'name': 'France', 'type': 'country'}, 'relationship': 'located_in'}]}\n",
      "20 {'relationships': [{'entity1': {'name': 'French Open', 'type': 'event'}, 'entity2': {'name': '1981', 'type': 'date'}, 'relationship': 'dated_on'}, {'entity1': {'name': 'Stade Roland Garros', 'type': 'organization'}, 'entity2': {'name': 'Paris', 'type': 'city'}, 'relationship': 'located_in'}, {'entity1': {'name': 'Paris', 'type': 'city'}, 'entity2': {'name': 'France', 'type': 'country'}, 'relationship': 'located_in'}, {'entity1': {'name': 'French Open', 'type': 'event'}, 'entity2': {'name': 'Stade Roland Garros', 'type': 'organization'}, 'relationship': 'held_in'}]}\n",
      "21 {'relationships': [{'entity1': {'name': '1981 Paris Open', 'type': 'event'}, 'entity2': {'name': 'Paris', 'type': 'city'}, 'relationship': 'held_in'}]}\n",
      "22 {'relationships': [{'entity1': {'name': '1982 French Open', 'type': 'event'}, 'entity2': {'name': 'Stade Roland Garros', 'type': 'organization'}, 'relationship': 'held_in'}, {'entity1': {'name': 'Stade Roland Garros', 'type': 'organization'}, 'entity2': {'name': 'Paris', 'type': 'city'}, 'relationship': 'located_in'}, {'entity1': {'name': 'Paris', 'type': 'city'}, 'entity2': {'name': 'France', 'type': 'country'}, 'relationship': 'located_in'}]}\n",
      "23 {'relationships': [{'entity1': {'name': '1982 Paris Open', 'type': 'event'}, 'entity2': {'name': 'Paris', 'type': 'city'}, 'relationship': 'held_in'}]}\n",
      "24 {'relationships': [{'entity1': {'name': '1982 World Sambo Championships', 'type': 'event'}, 'entity2': {'name': 'Paris', 'type': 'city'}, 'relationship': 'held_in'}, {'entity1': {'name': '1982 World Sambo Championships', 'type': 'event'}, 'entity2': {'name': 'France', 'type': 'country'}, 'relationship': 'held_in'}, {'entity1': {'name': '1982 World Sambo Championships', 'type': 'event'}, 'entity2': {'name': 'July 1982', 'type': 'date'}, 'relationship': 'held_on'}]}\n",
      "25 {'relationships': [{'entity1': {'name': 'French Open', 'type': 'event'}, 'entity2': {'name': '1983', 'type': 'date'}, 'relationship': 'dated_on'}, {'entity1': {'name': 'Stade Roland Garros', 'type': 'organization'}, 'entity2': {'name': 'Paris', 'type': 'city'}, 'relationship': 'located_in'}, {'entity1': {'name': 'Paris', 'type': 'city'}, 'entity2': {'name': 'France', 'type': 'country'}, 'relationship': 'located_in'}, {'entity1': {'name': 'French Open', 'type': 'event'}, 'entity2': {'name': 'Stade Roland Garros', 'type': 'organization'}, 'relationship': 'held_in'}]}\n",
      "26 {'relationships': [{'entity1': {'name': '1986 Paris Open', 'type': 'event'}, 'entity2': {'name': 'Paris', 'type': 'city'}, 'relationship': 'held_in'}]}\n",
      "27 {'relationships': [{'entity1': {'name': '1987 French Open', 'type': 'event'}, 'entity2': {'name': 'Stade Roland Garros', 'type': 'organization'}, 'relationship': 'held_in'}, {'entity1': {'name': 'Stade Roland Garros', 'type': 'organization'}, 'entity2': {'name': 'Paris', 'type': 'city'}, 'relationship': 'located_in'}, {'entity1': {'name': 'Paris', 'type': 'city'}, 'entity2': {'name': 'France', 'type': 'country'}, 'relationship': 'located_in'}]}\n",
      "28 {'relationships': [{'entity1': {'name': 'Paris', 'type': 'city'}, 'entity2': {'name': 'Paris Open', 'type': 'event'}, 'relationship': 'hosted_by'}, {'entity1': {'name': 'Paris Open', 'type': 'event'}, 'entity2': {'name': '1988', 'type': 'date'}, 'relationship': 'dated_on'}]}\n",
      "29 {'relationships': [{'entity1': {'name': 'French Open', 'type': 'event'}, 'entity2': {'name': '1991', 'type': 'date'}, 'relationship': 'dated_on'}, {'entity1': {'name': 'Stade Roland Garros', 'type': 'organization'}, 'entity2': {'name': 'Paris', 'type': 'city'}, 'relationship': 'located_in'}, {'entity1': {'name': 'Paris', 'type': 'city'}, 'entity2': {'name': 'France', 'type': 'country'}, 'relationship': 'located_in'}, {'entity1': {'name': 'French Open', 'type': 'event'}, 'entity2': {'name': 'Stade Roland Garros', 'type': 'organization'}, 'relationship': 'held_in'}]}\n"
     ]
    }
   ],
   "source": [
    "chain = get_chat_chain(\n",
    "\ttemplate=template,\n",
    "\tparser=PydanticOutputParser(pydantic_object=Relationships),\n",
    "\tinput_variables=[\"sentence\"]\n",
    ")\n",
    "\n",
    "results = []\n",
    "for idx, line in enumerate(filtered_lines[:30]):\n",
    "\tresult = chain.invoke({\n",
    "\t\t\"sentence\": line\n",
    "\t})\n",
    "\tresults.extend(result.model_dump()['relationships'])\n",
    "\tprint(idx, result.model_dump())\n",
    "\ttime.sleep(3)"
   ]
  },
  {
   "cell_type": "code",
   "execution_count": 7,
   "metadata": {},
   "outputs": [],
   "source": [
    "with open(os.path.join(DATA_DIR, \"processed\", \"wikisent2_paris_relationships.json\"), 'w', encoding='utf-8') as json_file:\n",
    "\tjson.dump(results, json_file, indent=4)"
   ]
  },
  {
   "cell_type": "markdown",
   "metadata": {},
   "source": [
    "## Construct Knowledge Graph"
   ]
  },
  {
   "cell_type": "code",
   "execution_count": 8,
   "metadata": {},
   "outputs": [],
   "source": [
    "# !pip install neo4j"
   ]
  },
  {
   "cell_type": "code",
   "execution_count": 9,
   "metadata": {},
   "outputs": [],
   "source": [
    "from neo4j import GraphDatabase\n",
    "\n",
    "driver = GraphDatabase.driver(os.getenv(\"NEO4J_URI\"), auth=(os.getenv(\"NEO4J_USERNAME\"), os.getenv(\"NEO4J_PASSWORD\")))\n",
    "session = driver.session()"
   ]
  },
  {
   "cell_type": "code",
   "execution_count": 10,
   "metadata": {},
   "outputs": [],
   "source": [
    "with open(os.path.join(DATA_DIR, \"processed\", \"wikisent2_paris_relationships.json\"), 'r', encoding='utf-8') as json_file:\n",
    "\trelationships = json.load(json_file)"
   ]
  },
  {
   "cell_type": "code",
   "execution_count": 11,
   "metadata": {},
   "outputs": [],
   "source": [
    "query = \"\"\"\n",
    "UNWIND $relationships AS relationship\n",
    "MERGE (entity1:Entity {name: relationship.entity1.name, type: relationship.entity1.type})\n",
    "MERGE (entity2:Entity {name: relationship.entity2.name, type: relationship.entity2.type})\n",
    "MERGE (entity1)-[:RELATED_TO {relationship: relationship.relationship}]->(entity2)\n",
    "\"\"\"\n",
    "\n",
    "result = session.run(query, relationships=relationships)"
   ]
  },
  {
   "cell_type": "code",
   "execution_count": 12,
   "metadata": {},
   "outputs": [],
   "source": [
    "query = \"\"\"\n",
    "MATCH (e1:Entity)-[r:RELATED_TO]->(e2:Entity)\n",
    "RETURN e1.name AS Entity1, e1.type AS Type1, \n",
    "       e2.name AS Entity2, e2.type AS Type2,\n",
    "       r.relationship AS Relationship\n",
    "\"\"\"\n",
    "\n",
    "result = session.run(query)"
   ]
  },
  {
   "cell_type": "markdown",
   "metadata": {},
   "source": [
    "## Query Data"
   ]
  },
  {
   "cell_type": "code",
   "execution_count": 18,
   "metadata": {},
   "outputs": [],
   "source": [
    "class EntityExtractor():\n",
    "\tdef __init__(self, client: str = \"google\", model: str = \"gemini-2.0-flash\"):\n",
    "\t\tself.template = \"\"\"\n",
    "You are an NER model with the capability to identify different entities in a sentence. Given the following sentence, identify all the entities in it.\n",
    "\n",
    "Here is the sentence separated in backticks (```):\n",
    "```\n",
    "{sentence}\n",
    "```\n",
    "\n",
    "Please provide the output in the following format:\n",
    "{format_instructions}\n",
    "\"\"\"\n",
    "\t\tself.parser=PydanticOutputParser(pydantic_object=Entities)\n",
    "\t\tself.input_variables = [\"sentence\"]\n",
    "\n",
    "\tdef extract(self, sentence: str):\n",
    "\t\tchain = get_chat_chain(\n",
    "\t\t\ttemplate=self.template,\n",
    "\t\t\tparser=self.parser,\n",
    "\t\t\tinput_variables=self.input_variables\n",
    "\t\t)\n",
    "\t\tentities = chain.invoke({\n",
    "\t\t\t\"sentence\": sentence\n",
    "\t\t}).model_dump()[\"entities\"]\n",
    "\t\treturn entities"
   ]
  },
  {
   "cell_type": "code",
   "execution_count": 19,
   "metadata": {},
   "outputs": [],
   "source": [
    "sentence = \"What are some sport events that held and some books written in cities of France?\"\n",
    "entities_extractor = EntityExtractor()\n",
    "entities = entities_extractor.extract(sentence)"
   ]
  },
  {
   "cell_type": "code",
   "execution_count": 20,
   "metadata": {},
   "outputs": [
    {
     "data": {
      "text/plain": [
       "[{'name': 'sport events', 'type': 'event'},\n",
       " {'name': 'books', 'type': 'book'},\n",
       " {'name': 'France', 'type': 'country'}]"
      ]
     },
     "execution_count": 20,
     "metadata": {},
     "output_type": "execute_result"
    }
   ],
   "source": [
    "entities"
   ]
  },
  {
   "cell_type": "code",
   "execution_count": 21,
   "metadata": {},
   "outputs": [],
   "source": [
    "query = \"\"\"\n",
    "MATCH path = (startNode)-[*1..3]-(connectedNode)\n",
    "WHERE startNode.name IN $entitiesName AND startNode.type IN $entitiesType\n",
    "UNWIND relationships(path) AS rel\n",
    "RETURN startNode AS entity1, connectedNode AS entity2, rel\n",
    "\"\"\"\n",
    "\n",
    "result = session.run(\n",
    "    query,\n",
    "    entitiesName=[entity['name'] for entity in entities],\n",
    "    entitiesType=[entity['type'] for entity in entities]\n",
    ")"
   ]
  },
  {
   "cell_type": "code",
   "execution_count": 22,
   "metadata": {},
   "outputs": [],
   "source": [
    "closest_entities = []\n",
    "for record in result:\n",
    "\trelation = f\"{dict(record['entity2'])} - {dict(record['rel'])} -> {dict(record['entity1'])}\"\n",
    "\tif relation not in closest_entities:\n",
    "\t\tclosest_entities.append(relation)"
   ]
  },
  {
   "cell_type": "code",
   "execution_count": 23,
   "metadata": {},
   "outputs": [],
   "source": [
    "template = \"\"\"\n",
    "You are a similar query generator system. Your task is to use the entities and their relationships in the closest\n",
    "entities list to generate {n} similar queries to the given query.\n",
    "\n",
    "Here is the query separated in backticks (```):\n",
    "```\n",
    "{query}\n",
    "```\n",
    "\n",
    "Here are the closest entities related to the entities in the query separated in backticks (```):\n",
    "```\n",
    "{closest_entities}\n",
    "```\n",
    "\n",
    "Please provide the output in the following format:\n",
    "{format_instructions}\n",
    "\"\"\""
   ]
  },
  {
   "cell_type": "code",
   "execution_count": 24,
   "metadata": {},
   "outputs": [],
   "source": [
    "chain = get_chat_chain(\n",
    "    template=template,\n",
    "    parser=PydanticOutputParser(pydantic_object=Queries),\n",
    "    input_variables=[\"n\", \"query\", \"closest_entities\"]\n",
    ")\n",
    "queries = chain.invoke({\n",
    "    \"n\": 5,\n",
    "\t\"query\": \"What are some sport events that held and some books written in cities of France?\",\n",
    "    \"closest_entities\": closest_entities\n",
    "}).model_dump()['queries']"
   ]
  },
  {
   "cell_type": "code",
   "execution_count": 25,
   "metadata": {},
   "outputs": [
    {
     "data": {
      "text/plain": [
       "['What are some music events that held and some books written in cities of France?',\n",
       " 'What are some political events that held and some books written in cities of France?',\n",
       " 'What are some sport events that held and some poems written in cities of France?',\n",
       " 'What are some sport events that held and some articles written in cities of France?',\n",
       " 'What are some sport events that held and some books written in Paris?']"
      ]
     },
     "execution_count": 25,
     "metadata": {},
     "output_type": "execute_result"
    }
   ],
   "source": [
    "queries"
   ]
  },
  {
   "cell_type": "code",
   "execution_count": 26,
   "metadata": {},
   "outputs": [],
   "source": [
    "template = \"\"\"\n",
    "You are a query analyzer system. Your task is to analyze the given queries and suggest\n",
    "its complexity.\n",
    "\n",
    "These are the complexity types:\n",
    "- Single Hop: Queries that can be answered only by checking all the nodes connected to the main entity (node).\n",
    "- Multiple Hop: Queries that require multiple hops to get sequential answers to for the final answer.\n",
    "\n",
    "Here is the query separated in backticks (```):\n",
    "```\n",
    "{query}\n",
    "```\n",
    "\n",
    "Please provide the output in the following format:\n",
    "{format_instructions}\n",
    "\"\"\""
   ]
  },
  {
   "cell_type": "code",
   "execution_count": 27,
   "metadata": {},
   "outputs": [],
   "source": [
    "from langchain.output_parsers import EnumOutputParser"
   ]
  },
  {
   "cell_type": "code",
   "execution_count": 28,
   "metadata": {},
   "outputs": [],
   "source": [
    "def analyze_query_complexity(query):\n",
    "\tparser = EnumOutputParser(enum=ComplexityTypes)\n",
    "\tchain = get_chat_chain(\n",
    "\t\ttemplate=template,\n",
    "\t\tparser=parser,\n",
    "    \tinput_variables=[\"query\"]\n",
    "\t)\n",
    "\treturn chain.invoke({\n",
    "\t\t\"query\":query\n",
    "\t})\n",
    "    "
   ]
  },
  {
   "cell_type": "code",
   "execution_count": 29,
   "metadata": {},
   "outputs": [],
   "source": [
    "template = \"\"\"\n",
    "You are a query generator system. Your task is to break the query into multiple queries\n",
    "that can be executed in sequence to get the final answer.\n",
    "\n",
    "Here is the query separated in backticks (```):\n",
    "```\n",
    "{query}\n",
    "```\n",
    "\n",
    "Please provide the output in the following format:\n",
    "{format_instructions}\n",
    "\"\"\""
   ]
  },
  {
   "cell_type": "code",
   "execution_count": 30,
   "metadata": {},
   "outputs": [],
   "source": [
    "def get_sequential_queries_with_dependency(query):\n",
    "\tchain = get_chat_chain(\n",
    "\t\ttemplate=template,\n",
    "\t\tparser=PydanticOutputParser(pydantic_object=SubQueries),\n",
    "\t\tinput_variables=[\"query\"]\n",
    "\t)\n",
    "\n",
    "\treturn chain.invoke({\n",
    "\t\t\"query\":query\n",
    "\t})"
   ]
  },
  {
   "cell_type": "code",
   "execution_count": 33,
   "metadata": {},
   "outputs": [],
   "source": [
    "def query_planning(query):\n",
    "\tcomplexity = analyze_query_complexity(query)\n",
    "\tif complexity == ComplexityTypes.SINGLE_HOP:\n",
    "\t\treturn \"Execute the query directly.\"\n",
    "\telif complexity == ComplexityTypes.MULTIPLE_HOP:\n",
    "\t\tsequential_queries = get_sequential_queries_with_dependency(query)\n",
    "\t\tprint(sequential_queries)\n",
    "\t\tfor subquery in sequential_queries.yield_subquery_idx_to_execute():\n",
    "\t\t\tprint(\"Query:\", subquery)\n",
    "\t\t\tprint(\"Dependencies:\", subquery.dependencies)\n",
    "\t\t\tprint(\"Extracted Entities:\", EntityExtractor().extract(subquery.query))\n",
    "\t\t"
   ]
  },
  {
   "cell_type": "code",
   "execution_count": 34,
   "metadata": {},
   "outputs": [
    {
     "name": "stdout",
     "output_type": "stream",
     "text": [
      "subqueries=[SubQuery(query='What are some cities in France?', dependencies=[]), SubQuery(query='What are some cities in Europe?', dependencies=[]), SubQuery(query='What are some sport events held in the cities from the previous queries?', dependencies=[0, 1]), SubQuery(query='What are some music events held in the cities from the previous queries?', dependencies=[0, 1])]\n",
      "Query: query='What are some cities in France?' dependencies=[]\n",
      "Dependencies: []\n",
      "Extracted Entities: [{'name': 'France', 'type': 'country'}]\n",
      "Query: query='What are some cities in Europe?' dependencies=[]\n",
      "Dependencies: []\n",
      "Extracted Entities: [{'name': 'Europe', 'type': 'country'}]\n",
      "Query: query='What are some sport events held in the cities from the previous queries?' dependencies=[0, 1]\n",
      "Dependencies: [0, 1]\n",
      "Extracted Entities: [{'name': 'sport events', 'type': 'event'}, {'name': 'cities', 'type': 'city'}]\n",
      "Query: query='What are some music events held in the cities from the previous queries?' dependencies=[0, 1]\n",
      "Dependencies: [0, 1]\n",
      "Extracted Entities: [{'name': 'music events', 'type': 'event'}, {'name': 'cities', 'type': 'city'}]\n"
     ]
    }
   ],
   "source": [
    "query = \"What are some sport or music events that held in cities of France or Europe?\"\n",
    "query_planning(query)"
   ]
  },
  {
   "cell_type": "code",
   "execution_count": null,
   "metadata": {},
   "outputs": [],
   "source": []
  },
  {
   "cell_type": "code",
   "execution_count": null,
   "metadata": {},
   "outputs": [],
   "source": []
  }
 ],
 "metadata": {
  "kernelspec": {
   "display_name": "Python 3",
   "language": "python",
   "name": "python3"
  },
  "language_info": {
   "codemirror_mode": {
    "name": "ipython",
    "version": 3
   },
   "file_extension": ".py",
   "mimetype": "text/x-python",
   "name": "python",
   "nbconvert_exporter": "python",
   "pygments_lexer": "ipython3",
   "version": "3.10.11"
  }
 },
 "nbformat": 4,
 "nbformat_minor": 2
}
