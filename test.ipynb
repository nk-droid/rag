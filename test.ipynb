{
 "cells": [
  {
   "cell_type": "markdown",
   "metadata": {},
   "source": [
    "## Data Processing"
   ]
  },
  {
   "cell_type": "code",
   "execution_count": 1,
   "metadata": {},
   "outputs": [
    {
     "name": "stderr",
     "output_type": "stream",
     "text": [
      "C:\\Users\\HP\\AppData\\Local\\Packages\\PythonSoftwareFoundation.Python.3.10_qbz5n2kfra8p0\\LocalCache\\local-packages\\Python310\\site-packages\\langchain_openai\\chat_models\\__init__.py:1: LangChainDeprecationWarning: As of langchain-core 0.3.0, LangChain uses pydantic v2 internally. The langchain_core.pydantic_v1 module was a compatibility shim for pydantic v1, and should no longer be used. Please update the code to import from Pydantic directly.\n",
      "\n",
      "For example, replace imports like: `from langchain_core.pydantic_v1 import BaseModel`\n",
      "with: `from pydantic import BaseModel`\n",
      "or the v1 compatibility namespace if you are working in a code base that has not been fully upgraded to pydantic 2 yet. \tfrom pydantic.v1 import BaseModel\n",
      "\n",
      "  from langchain_openai.chat_models.azure import AzureChatOpenAI\n",
      "C:\\Users\\HP\\AppData\\Local\\Packages\\PythonSoftwareFoundation.Python.3.10_qbz5n2kfra8p0\\LocalCache\\local-packages\\Python310\\site-packages\\pydantic\\_internal\\_config.py:345: UserWarning: Valid config keys have changed in V2:\n",
      "* 'allow_population_by_field_name' has been renamed to 'populate_by_name'\n",
      "  warnings.warn(message, UserWarning)\n",
      "C:\\Users\\HP\\AppData\\Local\\Packages\\PythonSoftwareFoundation.Python.3.10_qbz5n2kfra8p0\\LocalCache\\local-packages\\Python310\\site-packages\\pydantic\\_internal\\_config.py:345: UserWarning: Valid config keys have changed in V2:\n",
      "* 'allow_population_by_field_name' has been renamed to 'populate_by_name'\n",
      "  warnings.warn(message, UserWarning)\n",
      "C:\\Users\\HP\\AppData\\Local\\Packages\\PythonSoftwareFoundation.Python.3.10_qbz5n2kfra8p0\\LocalCache\\local-packages\\Python310\\site-packages\\tqdm\\auto.py:21: TqdmWarning: IProgress not found. Please update jupyter and ipywidgets. See https://ipywidgets.readthedocs.io/en/stable/user_install.html\n",
      "  from .autonotebook import tqdm as notebook_tqdm\n"
     ]
    }
   ],
   "source": [
    "from rag_kg.pipeline.process_data import filter_data, create_entity_relation_data, dump_data"
   ]
  },
  {
   "cell_type": "code",
   "execution_count": 2,
   "metadata": {},
   "outputs": [],
   "source": [
    "filtered_data = filter_data([\"paris\"])"
   ]
  },
  {
   "cell_type": "code",
   "execution_count": 3,
   "metadata": {},
   "outputs": [
    {
     "name": "stdout",
     "output_type": "stream",
     "text": [
      "0 [{'entity1': {'name': 'Johann Stamitz', 'type': 'person'}, 'entity2': {'name': 'No. 3', 'type': 'book'}, 'relation': 'written_by'}, {'entity1': {'name': 'Paris', 'type': 'city'}, 'entity2': {'name': 'France', 'type': 'country'}, 'relation': 'located_in'}]\n",
      "1 [{'entity1': {'name': 'Brussels', 'type': 'city'}, 'entity2': {'name': 'countries', 'type': 'country'}, 'relation': 'associated_with'}, {'entity1': {'name': 'Paris', 'type': 'city'}, 'entity2': {'name': 'countries', 'type': 'country'}, 'relation': 'associated_with'}]\n",
      "2 [{'entity1': {'name': '1871', 'type': 'date'}, 'entity2': {'name': '1990', 'type': 'date'}, 'relation': 'known_as'}, {'entity1': {'name': 'Paris Commune', 'type': 'event'}, 'entity2': {'name': '1871', 'type': 'date'}, 'relation': 'happened_on'}]\n",
      "3 [{'entity1': {'name': '1931 European Rowing Championships', 'type': 'event'}, 'entity2': {'name': 'Seine', 'type': 'city'}, 'relation': 'held_in'}, {'entity1': {'name': '1931 European Rowing Championships', 'type': 'event'}, 'entity2': {'name': 'Paris', 'type': 'city'}, 'relation': 'held_in'}, {'entity1': {'name': 'Paris', 'type': 'city'}, 'entity2': {'name': 'France', 'type': 'country'}, 'relation': 'located_in'}, {'entity1': {'name': '1931 European Rowing Championships', 'type': 'event'}, 'entity2': {'name': 'Suresnes', 'type': 'city'}, 'relation': 'held_in'}]\n",
      "4 [{'entity1': {'name': 'French Championships', 'type': 'event'}, 'entity2': {'name': 'French Open', 'type': 'event'}, 'relation': 'known_as'}, {'entity1': {'name': 'French Championships', 'type': 'event'}, 'entity2': {'name': 'tennis tournament', 'type': 'event'}, 'relation': 'known_as'}, {'entity1': {'name': 'French Championships', 'type': 'event'}, 'entity2': {'name': '1933', 'type': 'date'}, 'relation': 'dated_on'}, {'entity1': {'name': 'Stade Roland-Garros', 'type': 'organization'}, 'entity2': {'name': 'Paris', 'type': 'city'}, 'relation': 'located_in'}, {'entity1': {'name': 'Paris', 'type': 'city'}, 'entity2': {'name': 'France', 'type': 'country'}, 'relation': 'located_in'}, {'entity1': {'name': 'French Championships', 'type': 'event'}, 'entity2': {'name': 'Stade Roland-Garros', 'type': 'organization'}, 'relation': 'held_in'}]\n",
      "5 [{'entity1': {'name': 'French Championships', 'type': 'event'}, 'entity2': {'name': 'French Open', 'type': 'event'}, 'relation': 'known_as'}, {'entity1': {'name': 'French Championships', 'type': 'event'}, 'entity2': {'name': '1957', 'type': 'date'}, 'relation': 'dated_on'}, {'entity1': {'name': 'French Championships', 'type': 'event'}, 'entity2': {'name': 'Stade Roland-Garros', 'type': 'organization'}, 'relation': 'held_in'}, {'entity1': {'name': 'Stade Roland-Garros', 'type': 'organization'}, 'entity2': {'name': 'Paris', 'type': 'city'}, 'relation': 'located_in'}, {'entity1': {'name': 'Paris', 'type': 'city'}, 'entity2': {'name': 'France', 'type': 'country'}, 'relation': 'located_in'}]\n",
      "6 [{'entity1': {'name': '1957 World Fencing Championships', 'type': 'event'}, 'entity2': {'name': 'Paris', 'type': 'city'}, 'relation': 'held_in'}, {'entity1': {'name': 'Paris', 'type': 'city'}, 'entity2': {'name': 'France', 'type': 'country'}, 'relation': 'located_in'}, {'entity1': {'name': '1957 World Fencing Championships', 'type': 'event'}, 'entity2': {'name': 'France', 'type': 'country'}, 'relation': 'held_in'}]\n",
      "7 [{'entity1': {'name': 'French Championships', 'type': 'event'}, 'entity2': {'name': 'French Open', 'type': 'event'}, 'relation': 'known_as'}, {'entity1': {'name': 'French Championships', 'type': 'event'}, 'entity2': {'name': '1958', 'type': 'date'}, 'relation': 'dated_on'}, {'entity1': {'name': 'French Championships', 'type': 'event'}, 'entity2': {'name': 'Stade Roland-Garros', 'type': 'organization'}, 'relation': 'held_in'}, {'entity1': {'name': 'Stade Roland-Garros', 'type': 'organization'}, 'entity2': {'name': 'Paris', 'type': 'city'}, 'relation': 'located_in'}, {'entity1': {'name': 'Paris', 'type': 'city'}, 'entity2': {'name': 'France', 'type': 'country'}, 'relation': 'located_in'}]\n",
      "8 [{'entity1': {'name': 'French Championships', 'type': 'event'}, 'entity2': {'name': 'French Open', 'type': 'event'}, 'relation': 'known_as'}, {'entity1': {'name': 'French Championships', 'type': 'event'}, 'entity2': {'name': '1959', 'type': 'date'}, 'relation': 'dated_on'}, {'entity1': {'name': 'French Championships', 'type': 'event'}, 'entity2': {'name': 'Stade Roland-Garros', 'type': 'organization'}, 'relation': 'held_in'}, {'entity1': {'name': 'Stade Roland-Garros', 'type': 'organization'}, 'entity2': {'name': 'Paris', 'type': 'city'}, 'relation': 'located_in'}, {'entity1': {'name': 'Paris', 'type': 'city'}, 'entity2': {'name': 'France', 'type': 'country'}, 'relation': 'located_in'}]\n",
      "9 [{'entity1': {'name': 'French Championships', 'type': 'event'}, 'entity2': {'name': 'French Open', 'type': 'event'}, 'relation': 'known_as'}, {'entity1': {'name': 'French Championships', 'type': 'event'}, 'entity2': {'name': 'Stade Roland-Garros', 'type': 'organization'}, 'relation': 'held_in'}, {'entity1': {'name': 'Stade Roland-Garros', 'type': 'organization'}, 'entity2': {'name': 'Paris', 'type': 'city'}, 'relation': 'located_in'}, {'entity1': {'name': 'Paris', 'type': 'city'}, 'entity2': {'name': 'France', 'type': 'country'}, 'relation': 'located_in'}, {'entity1': {'name': '1961 French Championships', 'type': 'event'}, 'entity2': {'name': '1961', 'type': 'date'}, 'relation': 'dated_on'}]\n"
     ]
    }
   ],
   "source": [
    "relations = create_entity_relation_data(filtered_data[:10])\n",
    "dump_data(relations)"
   ]
  },
  {
   "cell_type": "markdown",
   "metadata": {},
   "source": [
    "## Construct Knowledge Graph"
   ]
  },
  {
   "cell_type": "code",
   "execution_count": 4,
   "metadata": {},
   "outputs": [],
   "source": [
    "from rag_kg.knowledge_graph.script import clear_database, populate_database, get_all_entities_relations, get_entity_relation"
   ]
  },
  {
   "cell_type": "code",
   "execution_count": 5,
   "metadata": {},
   "outputs": [
    {
     "data": {
      "text/plain": [
       "<neo4j._sync.work.result.Result at 0x24f43488070>"
      ]
     },
     "execution_count": 5,
     "metadata": {},
     "output_type": "execute_result"
    }
   ],
   "source": [
    "clear_database()\n",
    "populate_database()"
   ]
  },
  {
   "cell_type": "code",
   "execution_count": 6,
   "metadata": {},
   "outputs": [],
   "source": [
    "result = get_all_entities_relations()"
   ]
  },
  {
   "cell_type": "markdown",
   "metadata": {},
   "source": [
    "## Query Data"
   ]
  },
  {
   "cell_type": "code",
   "execution_count": 7,
   "metadata": {},
   "outputs": [],
   "source": [
    "from rag_kg.llm_utils.query_processing import EntityExtractor, create_similar_queries"
   ]
  },
  {
   "cell_type": "code",
   "execution_count": 8,
   "metadata": {},
   "outputs": [
    {
     "data": {
      "text/plain": [
       "[{'name': 'sport events', 'type': 'event'},\n",
       " {'name': 'books', 'type': 'book'},\n",
       " {'name': 'France', 'type': 'country'}]"
      ]
     },
     "execution_count": 8,
     "metadata": {},
     "output_type": "execute_result"
    }
   ],
   "source": [
    "sentence = \"What are some sport events that held and some books written in cities of France?\"\n",
    "entities_extractor = EntityExtractor()\n",
    "entities = entities_extractor.extract(sentence)\n",
    "entities"
   ]
  },
  {
   "cell_type": "code",
   "execution_count": 9,
   "metadata": {},
   "outputs": [],
   "source": [
    "result = get_entity_relation(entities)"
   ]
  },
  {
   "cell_type": "code",
   "execution_count": null,
   "metadata": {},
   "outputs": [],
   "source": [
    "closest_entities = []\n",
    "for record in result:\n",
    "\trelation = f\"{dict(record['entity2'])} - {dict(record['rel'])} -> {dict(record['entity1'])}\"\n",
    "\tif relation not in closest_entities:\n",
    "\t\tclosest_entities.append(relation)\n",
    "\n",
    "queries = create_similar_queries(query=sentence, n_queries=5, closest_entities=closest_entities)\n",
    "queries"
   ]
  },
  {
   "cell_type": "code",
   "execution_count": 11,
   "metadata": {},
   "outputs": [
    {
     "name": "stdout",
     "output_type": "stream",
     "text": [
      "subqueries=[SubQuery(query='What are some cities in France?', dependencies=[]), SubQuery(query='What sport events were held in [city]?', dependencies=[0]), SubQuery(query='What books were written in [city]?', dependencies=[0]), SubQuery(query='Combine the sport events and books written in cities of France.', dependencies=[1, 2])]\n",
      "Query: query='What are some cities in France?' dependencies=[]\n",
      "Dependencies: []\n",
      "Extracted Entities: [{'name': 'France', 'type': 'country'}]\n",
      "Query: query='What sport events were held in [city]?' dependencies=[0]\n",
      "Dependencies: [0]\n",
      "Extracted Entities: [{'name': '[city]', 'type': 'city'}]\n",
      "Query: query='What books were written in [city]?' dependencies=[0]\n",
      "Dependencies: [0]\n",
      "Extracted Entities: [{'name': '[city]', 'type': 'city'}]\n",
      "Query: query='Combine the sport events and books written in cities of France.' dependencies=[1, 2]\n",
      "Dependencies: [1, 2]\n",
      "Extracted Entities: [{'name': 'sport events', 'type': 'event'}, {'name': 'books', 'type': 'book'}, {'name': 'cities', 'type': 'city'}, {'name': 'France', 'type': 'country'}]\n"
     ]
    }
   ],
   "source": [
    "from rag_kg.utils.schema import ComplexityTypes\n",
    "from rag_kg.llm_utils.query_processing import analyze_query_complexity, get_sequential_queries_with_dependency\n",
    "\n",
    "def query_planning(query):\n",
    "\tcomplexity = analyze_query_complexity(query)\n",
    "\tif complexity == ComplexityTypes.SINGLE_HOP:\n",
    "\t\treturn \"Execute the query directly.\"\n",
    "\telif complexity == ComplexityTypes.MULTIPLE_HOP:\n",
    "\t\tsequential_queries = get_sequential_queries_with_dependency(query)\n",
    "\t\tprint(sequential_queries)\n",
    "\t\tfor subquery in sequential_queries.yield_subquery_idx_to_execute():\n",
    "\t\t\tprint(\"Query:\", subquery)\n",
    "\t\t\tprint(\"Dependencies:\", subquery.dependencies)\n",
    "\t\t\tprint(\"Extracted Entities:\", EntityExtractor().extract(subquery.query))\n",
    "\n",
    "query_planning(sentence)"
   ]
  },
  {
   "cell_type": "code",
   "execution_count": null,
   "metadata": {},
   "outputs": [],
   "source": []
  },
  {
   "cell_type": "code",
   "execution_count": null,
   "metadata": {},
   "outputs": [],
   "source": []
  },
  {
   "cell_type": "code",
   "execution_count": null,
   "metadata": {},
   "outputs": [],
   "source": []
  }
 ],
 "metadata": {
  "kernelspec": {
   "display_name": "Python 3",
   "language": "python",
   "name": "python3"
  },
  "language_info": {
   "codemirror_mode": {
    "name": "ipython",
    "version": 3
   },
   "file_extension": ".py",
   "mimetype": "text/x-python",
   "name": "python",
   "nbconvert_exporter": "python",
   "pygments_lexer": "ipython3",
   "version": "3.10.11"
  }
 },
 "nbformat": 4,
 "nbformat_minor": 2
}
